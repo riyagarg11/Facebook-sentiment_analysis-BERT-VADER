{
  "nbformat": 4,
  "nbformat_minor": 0,
  "metadata": {
    "colab": {
      "provenance": []
    },
    "kernelspec": {
      "name": "python3",
      "display_name": "Python 3"
    },
    "language_info": {
      "name": "python"
    }
  },
  "cells": [
    {
      "cell_type": "code",
      "execution_count": null,
      "metadata": {
        "id": "p_LOEcnqcnn4"
      },
      "outputs": [],
      "source": [
        "import pandas as pd\n",
        "import re\n",
        "import nltk\n",
        "import seaborn as sns\n",
        "import matplotlib.pyplot as plt\n",
        "from nltk.corpus import stopwords\n",
        "from nltk.tokenize import word_tokenize\n",
        "from nltk.sentiment import SentimentIntensityAnalyzer\n",
        "from transformers import pipeline\n",
        "from sklearn.metrics import accuracy_score, classification_report\n",
        "\n",
        "# Step 1: Create a Balanced Custom Dataset with True Labels\n",
        "data = {\n",
        "    \"comment\": [\n",
        "        # Positive Comments\n",
        "        \"I absolutely love this product! It's just perfect. 😍🔥\",\n",
        "        \"Incredible! Works better than I expected. 5 stars! 🌟🌟🌟🌟🌟\",\n",
        "        \"This is fantastic! I couldn’t be happier with my purchase. 🎉\",\n",
        "        \"Superb quality! Worth every penny. 💯\",\n",
        "        \"I'm so happy with this, totally exceeded my expectations!\",\n",
        "\n",
        "        # Neutral Comments (More variety, factual, non-emotional)\n",
        "        \"It's fine, does what it says. Nothing special though.\",\n",
        "        \"A decent product. Not bad, not great—just okay.\",\n",
        "        \"The shipping was on time. No issues, but nothing exciting either.\",\n",
        "        \"As described. It works as expected, no surprises.\",\n",
        "        \"I don’t have strong feelings about this. It’s just okay.\",\n",
        "        \"The product arrived in a box, well-packaged.\",\n",
        "        \"This is a standard product, similar to others on the market.\",\n",
        "        \"I used it once, and it functioned as expected.\",\n",
        "        \"Customer support responded, but it took a while.\",\n",
        "        \"It’s neither good nor bad, just another product.\",\n",
        "\n",
        "        # Negative Comments\n",
        "        \"This is absolutely terrible. I wish I never bought it. 😡\",\n",
        "        \"Horrible experience! I regret this purchase completely. 😞\",\n",
        "        \"Extremely disappointed! What a waste of money. 💸\",\n",
        "        \"Not what I expected. Poor quality and unreliable!\",\n",
        "        \"Wouldn’t recommend this at all. Stay away!\",\n",
        "        \"This was a complete letdown. False advertising!\",\n",
        "        \"It broke within a week. What a disaster!\",\n",
        "        \"Not worth the price. I feel scammed.\",\n",
        "        \"The worst customer service I’ve ever dealt with.\",\n",
        "        \"Terrible experience, I wouldn’t wish this on anyone.\"\n",
        "    ],\n",
        "    \"true_sentiment\": [\n",
        "        \"Positive\", \"Positive\", \"Positive\", \"Positive\", \"Positive\",\n",
        "        \"Neutral\", \"Neutral\", \"Neutral\", \"Neutral\", \"Neutral\",\n",
        "        \"Neutral\", \"Neutral\", \"Neutral\", \"Neutral\", \"Neutral\",\n",
        "        \"Negative\", \"Negative\", \"Negative\", \"Negative\", \"Negative\",\n",
        "        \"Negative\", \"Negative\", \"Negative\", \"Negative\", \"Negative\"\n",
        "    ]  # Balanced Labels\n",
        "}\n",
        "\n",
        "\n",
        "df = pd.DataFrame(data)\n",
        "\n"
      ]
    },
    {
      "cell_type": "code",
      "source": [
        "# %%\n",
        "df = pd.DataFrame(data)\n",
        "\n",
        "# Step 2: Preprocess the Data\n",
        "nltk.download(\"stopwords\")\n",
        "nltk.download(\"punkt\")\n",
        "# Download the 'punkt_tab' data for sentence tokenization\n",
        "nltk.download('punkt_tab')\n",
        "\n",
        "def clean_text(text):\n",
        "    text = re.sub(r\"http\\S+|www\\S+|https\\S+\", \"\", text, flags=re.MULTILINE)  # Remove URLs\n",
        "    text = re.sub(r\"[^\\w\\s]\", \"\", text)  # Remove special characters\n",
        "    text = text.lower()  # Convert to lowercase\n",
        "    text_tokens = word_tokenize(text)\n",
        "    filtered_text = \" \".join([word for word in text_tokens if word not in stopwords.words(\"english\")])\n",
        "    return filtered_text if filtered_text else \"neutral\"  # Avoid empty text\n",
        "\n",
        "df[\"cleaned_text\"] = df[\"comment\"].apply(clean_text)\n",
        "\n",
        "# Step 3: Sentiment Analysis with VADER\n",
        "nltk.download(\"vader_lexicon\")\n",
        "sia = SentimentIntensityAnalyzer()\n",
        "\n",
        "df[\"sentiment_score\"] = df[\"cleaned_text\"].apply(lambda x: sia.polarity_scores(x)[\"compound\"])\n",
        "# %%"
      ],
      "metadata": {
        "colab": {
          "base_uri": "https://localhost:8080/"
        },
        "id": "RxLpOyOGc2oo",
        "outputId": "64452245-7f16-4c40-f4f7-d0fdcc1b6ae1"
      },
      "execution_count": null,
      "outputs": [
        {
          "output_type": "stream",
          "name": "stderr",
          "text": [
            "[nltk_data] Downloading package stopwords to /root/nltk_data...\n",
            "[nltk_data]   Package stopwords is already up-to-date!\n",
            "[nltk_data] Downloading package punkt to /root/nltk_data...\n",
            "[nltk_data]   Package punkt is already up-to-date!\n",
            "[nltk_data] Downloading package punkt_tab to /root/nltk_data...\n",
            "[nltk_data]   Package punkt_tab is already up-to-date!\n",
            "[nltk_data] Downloading package vader_lexicon to /root/nltk_data...\n",
            "[nltk_data]   Package vader_lexicon is already up-to-date!\n"
          ]
        }
      ]
    },
    {
      "cell_type": "code",
      "source": [
        "def categorize_sentiment(score):\n",
        "    if score >= 0.05:\n",
        "        return \"Positive\"\n",
        "    elif score <= -0.05:\n",
        "        return \"Negative\"\n",
        "    else:\n",
        "        return \"Neutral\"\n",
        "\n",
        "df[\"vader_sentiment\"] = df[\"sentiment_score\"].apply(categorize_sentiment)\n",
        "\n"
      ],
      "metadata": {
        "id": "b0jEil0eeHVz"
      },
      "execution_count": null,
      "outputs": []
    },
    {
      "cell_type": "code",
      "source": [
        "# Step 4: Sentiment Analysis with BERT\n",
        "bert_model = pipeline(\"sentiment-analysis\")  # Load BERT model\n",
        "df[\"bert_sentiment\"] = df[\"cleaned_text\"].apply(lambda x: bert_model(x)[0][\"label\"].upper())  # Convert to UPPERCASE\n",
        "\n",
        "df[\"true_sentiment\"] = df[\"true_sentiment\"].str.upper()  # Ensure true labels match format\n",
        "\n",
        "# Step 5: Model Evaluation\n",
        "print(\"\\n\\U0001F4A1 VADER Sentiment Analysis Accuracy:\", accuracy_score(df[\"true_sentiment\"], df[\"vader_sentiment\"]))\n",
        "print(classification_report(df[\"true_sentiment\"], df[\"vader_sentiment\"]))\n",
        "\n",
        "print(\"\\n\\U0001F4A1 BERT Sentiment Analysis Accuracy:\", accuracy_score(df[\"true_sentiment\"], df[\"bert_sentiment\"]))\n",
        "print(classification_report(df[\"true_sentiment\"], df[\"bert_sentiment\"]))\n"
      ],
      "metadata": {
        "colab": {
          "base_uri": "https://localhost:8080/"
        },
        "id": "__OXxQOxdE5L",
        "outputId": "d982ab81-2296-4bc0-e8d4-682024ffb64f"
      },
      "execution_count": null,
      "outputs": [
        {
          "output_type": "stream",
          "name": "stderr",
          "text": [
            "No model was supplied, defaulted to distilbert/distilbert-base-uncased-finetuned-sst-2-english and revision 714eb0f (https://huggingface.co/distilbert/distilbert-base-uncased-finetuned-sst-2-english).\n",
            "Using a pipeline without specifying a model name and revision in production is not recommended.\n",
            "Device set to use cpu\n"
          ]
        },
        {
          "output_type": "stream",
          "name": "stdout",
          "text": [
            "\n",
            "💡 VADER Sentiment Analysis Accuracy: 0.0\n",
            "              precision    recall  f1-score   support\n",
            "\n",
            "    NEGATIVE       0.00      0.00      0.00      10.0\n",
            "     NEUTRAL       0.00      0.00      0.00      10.0\n",
            "    Negative       0.00      0.00      0.00       0.0\n",
            "     Neutral       0.00      0.00      0.00       0.0\n",
            "    POSITIVE       0.00      0.00      0.00       5.0\n",
            "    Positive       0.00      0.00      0.00       0.0\n",
            "\n",
            "    accuracy                           0.00      25.0\n",
            "   macro avg       0.00      0.00      0.00      25.0\n",
            "weighted avg       0.00      0.00      0.00      25.0\n",
            "\n",
            "\n",
            "💡 BERT Sentiment Analysis Accuracy: 0.6\n",
            "              precision    recall  f1-score   support\n",
            "\n",
            "    NEGATIVE       0.62      1.00      0.77        10\n",
            "     NEUTRAL       0.00      0.00      0.00        10\n",
            "    POSITIVE       0.56      1.00      0.71         5\n",
            "\n",
            "    accuracy                           0.60        25\n",
            "   macro avg       0.39      0.67      0.49        25\n",
            "weighted avg       0.36      0.60      0.45        25\n",
            "\n"
          ]
        },
        {
          "output_type": "stream",
          "name": "stderr",
          "text": [
            "/usr/local/lib/python3.11/dist-packages/sklearn/metrics/_classification.py:1565: UndefinedMetricWarning: Precision is ill-defined and being set to 0.0 in labels with no predicted samples. Use `zero_division` parameter to control this behavior.\n",
            "  _warn_prf(average, modifier, f\"{metric.capitalize()} is\", len(result))\n",
            "/usr/local/lib/python3.11/dist-packages/sklearn/metrics/_classification.py:1565: UndefinedMetricWarning: Recall is ill-defined and being set to 0.0 in labels with no true samples. Use `zero_division` parameter to control this behavior.\n",
            "  _warn_prf(average, modifier, f\"{metric.capitalize()} is\", len(result))\n",
            "/usr/local/lib/python3.11/dist-packages/sklearn/metrics/_classification.py:1565: UndefinedMetricWarning: Precision is ill-defined and being set to 0.0 in labels with no predicted samples. Use `zero_division` parameter to control this behavior.\n",
            "  _warn_prf(average, modifier, f\"{metric.capitalize()} is\", len(result))\n",
            "/usr/local/lib/python3.11/dist-packages/sklearn/metrics/_classification.py:1565: UndefinedMetricWarning: Recall is ill-defined and being set to 0.0 in labels with no true samples. Use `zero_division` parameter to control this behavior.\n",
            "  _warn_prf(average, modifier, f\"{metric.capitalize()} is\", len(result))\n",
            "/usr/local/lib/python3.11/dist-packages/sklearn/metrics/_classification.py:1565: UndefinedMetricWarning: Precision is ill-defined and being set to 0.0 in labels with no predicted samples. Use `zero_division` parameter to control this behavior.\n",
            "  _warn_prf(average, modifier, f\"{metric.capitalize()} is\", len(result))\n",
            "/usr/local/lib/python3.11/dist-packages/sklearn/metrics/_classification.py:1565: UndefinedMetricWarning: Recall is ill-defined and being set to 0.0 in labels with no true samples. Use `zero_division` parameter to control this behavior.\n",
            "  _warn_prf(average, modifier, f\"{metric.capitalize()} is\", len(result))\n",
            "/usr/local/lib/python3.11/dist-packages/sklearn/metrics/_classification.py:1565: UndefinedMetricWarning: Precision is ill-defined and being set to 0.0 in labels with no predicted samples. Use `zero_division` parameter to control this behavior.\n",
            "  _warn_prf(average, modifier, f\"{metric.capitalize()} is\", len(result))\n",
            "/usr/local/lib/python3.11/dist-packages/sklearn/metrics/_classification.py:1565: UndefinedMetricWarning: Precision is ill-defined and being set to 0.0 in labels with no predicted samples. Use `zero_division` parameter to control this behavior.\n",
            "  _warn_prf(average, modifier, f\"{metric.capitalize()} is\", len(result))\n",
            "/usr/local/lib/python3.11/dist-packages/sklearn/metrics/_classification.py:1565: UndefinedMetricWarning: Precision is ill-defined and being set to 0.0 in labels with no predicted samples. Use `zero_division` parameter to control this behavior.\n",
            "  _warn_prf(average, modifier, f\"{metric.capitalize()} is\", len(result))\n"
          ]
        }
      ]
    },
    {
      "cell_type": "code",
      "source": [
        "# Step 6: Visualizing Sentiment Distribution\n",
        "plt.figure(figsize=(8, 5))\n",
        "sns.countplot(x=df[\"vader_sentiment\"], palette=\"coolwarm\")\n",
        "plt.title(\"VADER Sentiment Distribution\")\n",
        "plt.show()\n",
        "\n",
        "plt.figure(figsize=(8, 5))\n",
        "sns.countplot(x=df[\"bert_sentiment\"], palette=\"viridis\")\n",
        "plt.title(\"BERT Sentiment Distribution\")\n",
        "plt.show()"
      ],
      "metadata": {
        "colab": {
          "base_uri": "https://localhost:8080/",
          "height": 1000
        },
        "id": "TRHBReZUeQXW",
        "outputId": "bcedd644-899c-4962-8d72-6af8a4686bf8"
      },
      "execution_count": null,
      "outputs": [
        {
          "output_type": "stream",
          "name": "stderr",
          "text": [
            "<ipython-input-15-e4720176f038>:3: FutureWarning: \n",
            "\n",
            "Passing `palette` without assigning `hue` is deprecated and will be removed in v0.14.0. Assign the `x` variable to `hue` and set `legend=False` for the same effect.\n",
            "\n",
            "  sns.countplot(x=df[\"vader_sentiment\"], palette=\"coolwarm\")\n"
          ]
        },
        {
          "output_type": "display_data",
          "data": {
            "text/plain": [
              "<Figure size 800x500 with 1 Axes>"
            ],
            "image/png": "[encoded data removed]"
          },
          "metadata": {}
        },
        {
          "output_type": "stream",
          "name": "stderr",
          "text": [
            "<ipython-input-15-e4720176f038>:8: FutureWarning: \n",
            "\n",
            "Passing `palette` without assigning `hue` is deprecated and will be removed in v0.14.0. Assign the `x` variable to `hue` and set `legend=False` for the same effect.\n",
            "\n",
            "  sns.countplot(x=df[\"bert_sentiment\"], palette=\"viridis\")\n"
          ]
        },
        {
          "output_type": "display_data",
          "data": {
            "text/plain": [
              "<Figure size 800x500 with 1 Axes>"
            ],
            "image/png": "[encoded data removed]"
          },
          "metadata": {}
        }
      ]
    },
    {
      "cell_type": "code",
      "source": [],
      "metadata": {
        "id": "H_HsDeDdeQjk"
      },
      "execution_count": null,
      "outputs": []
    }
  ]
}